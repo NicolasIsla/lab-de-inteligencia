{
 "cells": [
  {
   "cell_type": "markdown",
   "metadata": {},
   "source": [
    "1. Implemente el algoritmo de análisis de textura LBP usando una matriz de 3x3. Aplique LBP a todas las\n",
    "imágenes de ojos disponibles y guarde los resultados. ¿Qué características tienen las imágenes procesadas\n",
    "con LBP?"
   ]
  },
  {
   "cell_type": "code",
   "execution_count": 3,
   "metadata": {},
   "outputs": [],
   "source": [
    "import cv2\n",
    "import matplotlib.pyplot as plt\n",
    "from skimage.feature import local_binary_pattern\n",
    "import numpy as np\n",
    "import os"
   ]
  },
  {
   "cell_type": "code",
   "execution_count": 4,
   "metadata": {},
   "outputs": [],
   "source": [
    "# parametros de lbp\n",
    "radius = 4\n",
    "n_points = 8 * radius\n"
   ]
  },
  {
   "cell_type": "code",
   "execution_count": 5,
   "metadata": {},
   "outputs": [],
   "source": [
    "# creacion de las imagenes lbp de ojos gal/test/impostor, los resultados se guardan por separado y en una nueva carpeta\n",
    "ruta=\"./ojos_gal\"\n",
    "lista=[file for file in os.listdir(ruta)]\n",
    "for file in lista:\n",
    "\n",
    "    img = cv2.imread(ruta+\"/\"+file,0)\n",
    "    lbp = local_binary_pattern(img, n_points, radius)\n",
    "    cv2.imwrite(\"./resultados/gal/\"+\"lbp_\"+file, lbp)\n",
    "\n",
    "\n",
    "ruta=\"./ojos_test\"\n",
    "lista=[file for file in os.listdir(ruta)]\n",
    "for file in lista:\n",
    "\n",
    "    img = cv2.imread(ruta+\"/\"+file,0)\n",
    "    lbp = local_binary_pattern(img, n_points, radius)\n",
    "    cv2.imwrite(\"./resultados/test/\"+\"lbp_\"+file, lbp)\n",
    "\n",
    "ruta=\"./ojos_impostor\"\n",
    "lista=[file for file in os.listdir(ruta)]\n",
    "for file in lista:\n",
    "\n",
    "    img = cv2.imread(ruta+\"/\"+file,0)\n",
    "    lbp = local_binary_pattern(img, n_points, radius)\n",
    "    cv2.imwrite(\"./resultados/impostor/\"+\"lbp_\"+file, lbp)\n"
   ]
  },
  {
   "cell_type": "markdown",
   "metadata": {},
   "source": [
    "2. Desarrolle un algoritmo para extraer un vector de características para cada imagen. Para ello divida la\n",
    "imagen de entrada en 30 regiones de 100x100 pixeles (ancho x alto) y a cada una de ellas calcúlele un\n",
    "histograma cuantizado en 84 puntos. Concatene los 30 histogramas conseguidos en un vector de\n",
    "dimensiones 1x2520 que será el elemento de salida al método de extracción de características."
   ]
  },
  {
   "cell_type": "code",
   "execution_count": 13,
   "metadata": {},
   "outputs": [],
   "source": [
    "# Particion de la imagen en 30 secciones\n",
    "# falta crear el histograma y compilar las 30 secciones\n",
    "ruta=\"./resultados/gal\"\n",
    "lista=[file for file in os.listdir(ruta)]\n",
    "for file in lista:\n",
    "    img = cv2.imread(ruta+\"/\"+file,0)\n",
    "    for i in range(5):\n",
    "        for j in range(6):\n",
    "            img[i*100:(i+1)*100,j*100:(j+1)*100]\n"
   ]
  },
  {
   "cell_type": "code",
   "execution_count": null,
   "metadata": {},
   "outputs": [],
   "source": []
  },
  {
   "cell_type": "code",
   "execution_count": null,
   "metadata": {},
   "outputs": [],
   "source": []
  },
  {
   "cell_type": "code",
   "execution_count": null,
   "metadata": {},
   "outputs": [],
   "source": []
  }
 ],
 "metadata": {
  "kernelspec": {
   "display_name": "Python 3.8.12 ('base')",
   "language": "python",
   "name": "python3"
  },
  "language_info": {
   "codemirror_mode": {
    "name": "ipython",
    "version": 3
   },
   "file_extension": ".py",
   "mimetype": "text/x-python",
   "name": "python",
   "nbconvert_exporter": "python",
   "pygments_lexer": "ipython3",
   "version": "3.8.12"
  },
  "orig_nbformat": 4,
  "vscode": {
   "interpreter": {
    "hash": "d7cbde5a911da28214958fd889eb24fd0f182b72a38c5f8b85dfa850781ced68"
   }
  }
 },
 "nbformat": 4,
 "nbformat_minor": 2
}
